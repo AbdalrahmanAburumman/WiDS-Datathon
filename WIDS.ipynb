{
 "cells": [
  {
   "cell_type": "code",
   "execution_count": 124,
   "metadata": {},
   "outputs": [],
   "source": [
    "import pandas as pd\n",
    "from matplotlib import pyplot as plt\n",
    "import numpy as np\n",
    "from sklearn.preprocessing import OrdinalEncoder\n",
    "from sklearn.model_selection import train_test_split\n",
    "from sklearn.ensemble import RandomForestClassifier\n",
    "from sklearn.ensemble import RandomForestRegressor\n",
    "from sklearn.metrics import mean_squared_error,r2_score"
   ]
  },
  {
   "cell_type": "code",
   "execution_count": 125,
   "metadata": {},
   "outputs": [],
   "source": [
    "train=pd.read_csv(\"train.csv.zip\")"
   ]
  },
  {
   "cell_type": "code",
   "execution_count": 126,
   "metadata": {},
   "outputs": [
    {
     "data": {
      "text/html": [
       "<div>\n",
       "<style scoped>\n",
       "    .dataframe tbody tr th:only-of-type {\n",
       "        vertical-align: middle;\n",
       "    }\n",
       "\n",
       "    .dataframe tbody tr th {\n",
       "        vertical-align: top;\n",
       "    }\n",
       "\n",
       "    .dataframe thead th {\n",
       "        text-align: right;\n",
       "    }\n",
       "</style>\n",
       "<table border=\"1\" class=\"dataframe\">\n",
       "  <thead>\n",
       "    <tr style=\"text-align: right;\">\n",
       "      <th></th>\n",
       "      <th>Year_Factor</th>\n",
       "      <th>State_Factor</th>\n",
       "      <th>building_class</th>\n",
       "      <th>facility_type</th>\n",
       "      <th>floor_area</th>\n",
       "      <th>year_built</th>\n",
       "      <th>energy_star_rating</th>\n",
       "      <th>ELEVATION</th>\n",
       "      <th>january_min_temp</th>\n",
       "      <th>january_avg_temp</th>\n",
       "      <th>...</th>\n",
       "      <th>days_above_80F</th>\n",
       "      <th>days_above_90F</th>\n",
       "      <th>days_above_100F</th>\n",
       "      <th>days_above_110F</th>\n",
       "      <th>direction_max_wind_speed</th>\n",
       "      <th>direction_peak_wind_speed</th>\n",
       "      <th>max_wind_speed</th>\n",
       "      <th>days_with_fog</th>\n",
       "      <th>site_eui</th>\n",
       "      <th>id</th>\n",
       "    </tr>\n",
       "  </thead>\n",
       "  <tbody>\n",
       "    <tr>\n",
       "      <th>0</th>\n",
       "      <td>1</td>\n",
       "      <td>State_1</td>\n",
       "      <td>Commercial</td>\n",
       "      <td>Grocery_store_or_food_market</td>\n",
       "      <td>61242.0</td>\n",
       "      <td>1942.0</td>\n",
       "      <td>11.0</td>\n",
       "      <td>2.4</td>\n",
       "      <td>36</td>\n",
       "      <td>50.5</td>\n",
       "      <td>...</td>\n",
       "      <td>14</td>\n",
       "      <td>0</td>\n",
       "      <td>0</td>\n",
       "      <td>0</td>\n",
       "      <td>1.0</td>\n",
       "      <td>1.0</td>\n",
       "      <td>1.0</td>\n",
       "      <td>NaN</td>\n",
       "      <td>248.682615</td>\n",
       "      <td>0</td>\n",
       "    </tr>\n",
       "    <tr>\n",
       "      <th>1</th>\n",
       "      <td>1</td>\n",
       "      <td>State_1</td>\n",
       "      <td>Commercial</td>\n",
       "      <td>Warehouse_Distribution_or_Shipping_center</td>\n",
       "      <td>274000.0</td>\n",
       "      <td>1955.0</td>\n",
       "      <td>45.0</td>\n",
       "      <td>1.8</td>\n",
       "      <td>36</td>\n",
       "      <td>50.5</td>\n",
       "      <td>...</td>\n",
       "      <td>14</td>\n",
       "      <td>0</td>\n",
       "      <td>0</td>\n",
       "      <td>0</td>\n",
       "      <td>1.0</td>\n",
       "      <td>NaN</td>\n",
       "      <td>1.0</td>\n",
       "      <td>12.0</td>\n",
       "      <td>26.500150</td>\n",
       "      <td>1</td>\n",
       "    </tr>\n",
       "    <tr>\n",
       "      <th>2</th>\n",
       "      <td>1</td>\n",
       "      <td>State_1</td>\n",
       "      <td>Commercial</td>\n",
       "      <td>Retail_Enclosed_mall</td>\n",
       "      <td>280025.0</td>\n",
       "      <td>1951.0</td>\n",
       "      <td>97.0</td>\n",
       "      <td>1.8</td>\n",
       "      <td>36</td>\n",
       "      <td>50.5</td>\n",
       "      <td>...</td>\n",
       "      <td>14</td>\n",
       "      <td>0</td>\n",
       "      <td>0</td>\n",
       "      <td>0</td>\n",
       "      <td>1.0</td>\n",
       "      <td>NaN</td>\n",
       "      <td>1.0</td>\n",
       "      <td>12.0</td>\n",
       "      <td>24.693619</td>\n",
       "      <td>2</td>\n",
       "    </tr>\n",
       "    <tr>\n",
       "      <th>3</th>\n",
       "      <td>1</td>\n",
       "      <td>State_1</td>\n",
       "      <td>Commercial</td>\n",
       "      <td>Education_Other_classroom</td>\n",
       "      <td>55325.0</td>\n",
       "      <td>1980.0</td>\n",
       "      <td>46.0</td>\n",
       "      <td>1.8</td>\n",
       "      <td>36</td>\n",
       "      <td>50.5</td>\n",
       "      <td>...</td>\n",
       "      <td>14</td>\n",
       "      <td>0</td>\n",
       "      <td>0</td>\n",
       "      <td>0</td>\n",
       "      <td>1.0</td>\n",
       "      <td>NaN</td>\n",
       "      <td>1.0</td>\n",
       "      <td>12.0</td>\n",
       "      <td>48.406926</td>\n",
       "      <td>3</td>\n",
       "    </tr>\n",
       "    <tr>\n",
       "      <th>4</th>\n",
       "      <td>1</td>\n",
       "      <td>State_1</td>\n",
       "      <td>Commercial</td>\n",
       "      <td>Warehouse_Nonrefrigerated</td>\n",
       "      <td>66000.0</td>\n",
       "      <td>1985.0</td>\n",
       "      <td>100.0</td>\n",
       "      <td>2.4</td>\n",
       "      <td>36</td>\n",
       "      <td>50.5</td>\n",
       "      <td>...</td>\n",
       "      <td>14</td>\n",
       "      <td>0</td>\n",
       "      <td>0</td>\n",
       "      <td>0</td>\n",
       "      <td>1.0</td>\n",
       "      <td>1.0</td>\n",
       "      <td>1.0</td>\n",
       "      <td>NaN</td>\n",
       "      <td>3.899395</td>\n",
       "      <td>4</td>\n",
       "    </tr>\n",
       "  </tbody>\n",
       "</table>\n",
       "<p>5 rows × 64 columns</p>\n",
       "</div>"
      ],
      "text/plain": [
       "   Year_Factor State_Factor building_class  \\\n",
       "0            1      State_1     Commercial   \n",
       "1            1      State_1     Commercial   \n",
       "2            1      State_1     Commercial   \n",
       "3            1      State_1     Commercial   \n",
       "4            1      State_1     Commercial   \n",
       "\n",
       "                               facility_type  floor_area  year_built  \\\n",
       "0               Grocery_store_or_food_market     61242.0      1942.0   \n",
       "1  Warehouse_Distribution_or_Shipping_center    274000.0      1955.0   \n",
       "2                       Retail_Enclosed_mall    280025.0      1951.0   \n",
       "3                  Education_Other_classroom     55325.0      1980.0   \n",
       "4                  Warehouse_Nonrefrigerated     66000.0      1985.0   \n",
       "\n",
       "   energy_star_rating  ELEVATION  january_min_temp  january_avg_temp  ...  \\\n",
       "0                11.0        2.4                36              50.5  ...   \n",
       "1                45.0        1.8                36              50.5  ...   \n",
       "2                97.0        1.8                36              50.5  ...   \n",
       "3                46.0        1.8                36              50.5  ...   \n",
       "4               100.0        2.4                36              50.5  ...   \n",
       "\n",
       "   days_above_80F  days_above_90F  days_above_100F  days_above_110F  \\\n",
       "0              14               0                0                0   \n",
       "1              14               0                0                0   \n",
       "2              14               0                0                0   \n",
       "3              14               0                0                0   \n",
       "4              14               0                0                0   \n",
       "\n",
       "   direction_max_wind_speed  direction_peak_wind_speed  max_wind_speed  \\\n",
       "0                       1.0                        1.0             1.0   \n",
       "1                       1.0                        NaN             1.0   \n",
       "2                       1.0                        NaN             1.0   \n",
       "3                       1.0                        NaN             1.0   \n",
       "4                       1.0                        1.0             1.0   \n",
       "\n",
       "   days_with_fog    site_eui  id  \n",
       "0            NaN  248.682615   0  \n",
       "1           12.0   26.500150   1  \n",
       "2           12.0   24.693619   2  \n",
       "3           12.0   48.406926   3  \n",
       "4            NaN    3.899395   4  \n",
       "\n",
       "[5 rows x 64 columns]"
      ]
     },
     "execution_count": 126,
     "metadata": {},
     "output_type": "execute_result"
    }
   ],
   "source": [
    "train.head()"
   ]
  },
  {
   "cell_type": "code",
   "execution_count": 127,
   "metadata": {},
   "outputs": [
    {
     "data": {
      "text/plain": [
       "Year_Factor                      0\n",
       "State_Factor                     0\n",
       "building_class                   0\n",
       "facility_type                    0\n",
       "floor_area                       0\n",
       "                             ...  \n",
       "direction_peak_wind_speed    41811\n",
       "max_wind_speed               41082\n",
       "days_with_fog                45796\n",
       "site_eui                         0\n",
       "id                               0\n",
       "Length: 64, dtype: int64"
      ]
     },
     "execution_count": 127,
     "metadata": {},
     "output_type": "execute_result"
    }
   ],
   "source": [
    "nullValues=train.isnull().sum()\n",
    "nullValues"
   ]
  },
  {
   "cell_type": "code",
   "execution_count": 128,
   "metadata": {},
   "outputs": [
    {
     "data": {
      "text/plain": [
       "year_built                    1837\n",
       "energy_star_rating           26709\n",
       "direction_max_wind_speed     41082\n",
       "direction_peak_wind_speed    41811\n",
       "max_wind_speed               41082\n",
       "days_with_fog                45796\n",
       "dtype: int64"
      ]
     },
     "execution_count": 128,
     "metadata": {},
     "output_type": "execute_result"
    }
   ],
   "source": [
    "nullValues[nullValues>0]"
   ]
  },
  {
   "cell_type": "code",
   "execution_count": 129,
   "metadata": {},
   "outputs": [
    {
     "data": {
      "text/plain": [
       "0    1927.0\n",
       "dtype: float64"
      ]
     },
     "execution_count": 129,
     "metadata": {},
     "output_type": "execute_result"
    }
   ],
   "source": [
    "train['year_built'].mode()"
   ]
  },
  {
   "cell_type": "code",
   "execution_count": 130,
   "metadata": {},
   "outputs": [],
   "source": [
    "train['year_built'].fillna(train['year_built'].median(),inplace=True)\n",
    "train['energy_star_rating'].fillna(train['energy_star_rating'].median(),inplace=True)\n",
    "train['direction_max_wind_speed'].fillna(train['direction_max_wind_speed'].median(),inplace=True)\n",
    "train['direction_peak_wind_speed'].fillna(train['direction_peak_wind_speed'].median(),inplace=True)\n",
    "train['days_with_fog'].fillna(train['days_with_fog'].median(),inplace=True)\n",
    "train['max_wind_speed'].fillna(train['max_wind_speed'].median(),inplace=True)"
   ]
  },
  {
   "cell_type": "code",
   "execution_count": 131,
   "metadata": {},
   "outputs": [
    {
     "data": {
      "text/plain": [
       "Year_Factor                  0\n",
       "State_Factor                 0\n",
       "building_class               0\n",
       "facility_type                0\n",
       "floor_area                   0\n",
       "                            ..\n",
       "direction_peak_wind_speed    0\n",
       "max_wind_speed               0\n",
       "days_with_fog                0\n",
       "site_eui                     0\n",
       "id                           0\n",
       "Length: 64, dtype: int64"
      ]
     },
     "execution_count": 131,
     "metadata": {},
     "output_type": "execute_result"
    }
   ],
   "source": [
    "nullValues=train.isnull().sum()\n",
    "nullValues"
   ]
  },
  {
   "cell_type": "code",
   "execution_count": 132,
   "metadata": {},
   "outputs": [
    {
     "data": {
      "text/plain": [
       "array(['State_1', 'State_2', 'State_4', 'State_6', 'State_8', 'State_10',\n",
       "       'State_11'], dtype=object)"
      ]
     },
     "execution_count": 132,
     "metadata": {},
     "output_type": "execute_result"
    }
   ],
   "source": [
    "train['State_Factor'].unique()"
   ]
  },
  {
   "cell_type": "code",
   "execution_count": 133,
   "metadata": {},
   "outputs": [
    {
     "data": {
      "text/plain": [
       "array(['Commercial', 'Residential'], dtype=object)"
      ]
     },
     "execution_count": 133,
     "metadata": {},
     "output_type": "execute_result"
    }
   ],
   "source": [
    "train['building_class'].unique()"
   ]
  },
  {
   "cell_type": "code",
   "execution_count": 134,
   "metadata": {},
   "outputs": [
    {
     "data": {
      "text/plain": [
       "array(['Grocery_store_or_food_market',\n",
       "       'Warehouse_Distribution_or_Shipping_center',\n",
       "       'Retail_Enclosed_mall', 'Education_Other_classroom',\n",
       "       'Warehouse_Nonrefrigerated', 'Warehouse_Selfstorage',\n",
       "       'Office_Uncategorized', 'Data_Center', 'Commercial_Other',\n",
       "       'Mixed_Use_Predominantly_Commercial',\n",
       "       'Office_Medical_non_diagnostic', 'Education_College_or_university',\n",
       "       'Industrial', 'Laboratory',\n",
       "       'Public_Assembly_Entertainment_culture',\n",
       "       'Retail_Vehicle_dealership_showroom', 'Retail_Uncategorized',\n",
       "       'Lodging_Hotel', 'Retail_Strip_shopping_mall',\n",
       "       'Education_Uncategorized', 'Health_Care_Inpatient',\n",
       "       'Public_Assembly_Drama_theater', 'Public_Assembly_Social_meeting',\n",
       "       'Religious_worship', 'Mixed_Use_Commercial_and_Residential',\n",
       "       'Office_Bank_or_other_financial', 'Parking_Garage',\n",
       "       'Commercial_Unknown', 'Service_Vehicle_service_repair_shop',\n",
       "       'Service_Drycleaning_or_Laundry', 'Public_Assembly_Recreation',\n",
       "       'Service_Uncategorized', 'Warehouse_Refrigerated',\n",
       "       'Food_Service_Uncategorized', 'Health_Care_Uncategorized',\n",
       "       'Food_Service_Other', 'Public_Assembly_Movie_Theater',\n",
       "       'Food_Service_Restaurant_or_cafeteria', 'Food_Sales',\n",
       "       'Public_Assembly_Uncategorized', 'Nursing_Home',\n",
       "       'Health_Care_Outpatient_Clinic', 'Education_Preschool_or_daycare',\n",
       "       '5plus_Unit_Building', 'Multifamily_Uncategorized',\n",
       "       'Lodging_Dormitory_or_fraternity_sorority',\n",
       "       'Public_Assembly_Library', 'Public_Safety_Uncategorized',\n",
       "       'Public_Safety_Fire_or_police_station', 'Office_Mixed_use',\n",
       "       'Public_Assembly_Other', 'Public_Safety_Penitentiary',\n",
       "       'Health_Care_Outpatient_Uncategorized', 'Lodging_Other',\n",
       "       'Mixed_Use_Predominantly_Residential', 'Public_Safety_Courthouse',\n",
       "       'Public_Assembly_Stadium', 'Lodging_Uncategorized',\n",
       "       '2to4_Unit_Building', 'Warehouse_Uncategorized'], dtype=object)"
      ]
     },
     "execution_count": 134,
     "metadata": {},
     "output_type": "execute_result"
    }
   ],
   "source": [
    "train['facility_type'].unique()"
   ]
  },
  {
   "cell_type": "code",
   "execution_count": 135,
   "metadata": {},
   "outputs": [
    {
     "data": {
      "text/plain": [
       "State_6     50840\n",
       "State_11     6412\n",
       "State_1      5618\n",
       "State_2      4871\n",
       "State_4      4300\n",
       "State_8      3701\n",
       "State_10       15\n",
       "Name: State_Factor, dtype: int64"
      ]
     },
     "execution_count": 135,
     "metadata": {},
     "output_type": "execute_result"
    }
   ],
   "source": [
    "train['State_Factor'].value_counts()"
   ]
  },
  {
   "cell_type": "code",
   "execution_count": 136,
   "metadata": {},
   "outputs": [],
   "source": [
    "from sklearn.preprocessing import OrdinalEncoder"
   ]
  },
  {
   "cell_type": "code",
   "execution_count": 137,
   "metadata": {},
   "outputs": [],
   "source": [
    "State_Factor=['State_1','State_2','State_4','State_6','State_8','State_10','State_11']"
   ]
  },
  {
   "cell_type": "code",
   "execution_count": 138,
   "metadata": {},
   "outputs": [],
   "source": [
    "stateOrdi=OrdinalEncoder(categories=[State_Factor])"
   ]
  },
  {
   "cell_type": "code",
   "execution_count": 139,
   "metadata": {},
   "outputs": [
    {
     "data": {
      "text/plain": [
       "OrdinalEncoder(categories=[['State_1', 'State_2', 'State_4', 'State_6',\n",
       "                            'State_8', 'State_10', 'State_11']])"
      ]
     },
     "execution_count": 139,
     "metadata": {},
     "output_type": "execute_result"
    }
   ],
   "source": [
    "stateOrdi.fit(train[['State_Factor']])"
   ]
  },
  {
   "cell_type": "code",
   "execution_count": 140,
   "metadata": {},
   "outputs": [],
   "source": [
    "StateOrdi=stateOrdi.transform(train[['State_Factor']])"
   ]
  },
  {
   "cell_type": "code",
   "execution_count": 141,
   "metadata": {},
   "outputs": [],
   "source": [
    "building_class=['Commercial','Residential']\n",
    "\n"
   ]
  },
  {
   "cell_type": "code",
   "execution_count": 142,
   "metadata": {},
   "outputs": [],
   "source": [
    "buildingOrdi=OrdinalEncoder(categories=[building_class])"
   ]
  },
  {
   "cell_type": "code",
   "execution_count": 143,
   "metadata": {},
   "outputs": [
    {
     "data": {
      "text/plain": [
       "OrdinalEncoder(categories=[['Commercial', 'Residential']])"
      ]
     },
     "execution_count": 143,
     "metadata": {},
     "output_type": "execute_result"
    }
   ],
   "source": [
    "buildingOrdi.fit(train[['building_class']])"
   ]
  },
  {
   "cell_type": "code",
   "execution_count": 144,
   "metadata": {},
   "outputs": [],
   "source": [
    "BuildingOrdi=buildingOrdi.transform(train[['building_class']])"
   ]
  },
  {
   "cell_type": "code",
   "execution_count": 145,
   "metadata": {},
   "outputs": [],
   "source": [
    "train['State_Factor']=StateOrdi\n",
    "train['building_class']=BuildingOrdi"
   ]
  },
  {
   "cell_type": "code",
   "execution_count": 146,
   "metadata": {},
   "outputs": [
    {
     "data": {
      "text/html": [
       "<div>\n",
       "<style scoped>\n",
       "    .dataframe tbody tr th:only-of-type {\n",
       "        vertical-align: middle;\n",
       "    }\n",
       "\n",
       "    .dataframe tbody tr th {\n",
       "        vertical-align: top;\n",
       "    }\n",
       "\n",
       "    .dataframe thead th {\n",
       "        text-align: right;\n",
       "    }\n",
       "</style>\n",
       "<table border=\"1\" class=\"dataframe\">\n",
       "  <thead>\n",
       "    <tr style=\"text-align: right;\">\n",
       "      <th></th>\n",
       "      <th>Year_Factor</th>\n",
       "      <th>State_Factor</th>\n",
       "      <th>building_class</th>\n",
       "      <th>facility_type</th>\n",
       "      <th>floor_area</th>\n",
       "      <th>year_built</th>\n",
       "      <th>energy_star_rating</th>\n",
       "      <th>ELEVATION</th>\n",
       "      <th>january_min_temp</th>\n",
       "      <th>january_avg_temp</th>\n",
       "      <th>...</th>\n",
       "      <th>days_above_80F</th>\n",
       "      <th>days_above_90F</th>\n",
       "      <th>days_above_100F</th>\n",
       "      <th>days_above_110F</th>\n",
       "      <th>direction_max_wind_speed</th>\n",
       "      <th>direction_peak_wind_speed</th>\n",
       "      <th>max_wind_speed</th>\n",
       "      <th>days_with_fog</th>\n",
       "      <th>site_eui</th>\n",
       "      <th>id</th>\n",
       "    </tr>\n",
       "  </thead>\n",
       "  <tbody>\n",
       "    <tr>\n",
       "      <th>0</th>\n",
       "      <td>1</td>\n",
       "      <td>0.0</td>\n",
       "      <td>0.0</td>\n",
       "      <td>Grocery_store_or_food_market</td>\n",
       "      <td>61242.0</td>\n",
       "      <td>1942.0</td>\n",
       "      <td>11.0</td>\n",
       "      <td>2.4</td>\n",
       "      <td>36</td>\n",
       "      <td>50.5</td>\n",
       "      <td>...</td>\n",
       "      <td>14</td>\n",
       "      <td>0</td>\n",
       "      <td>0</td>\n",
       "      <td>0</td>\n",
       "      <td>1.0</td>\n",
       "      <td>1.0</td>\n",
       "      <td>1.0</td>\n",
       "      <td>104.0</td>\n",
       "      <td>248.682615</td>\n",
       "      <td>0</td>\n",
       "    </tr>\n",
       "    <tr>\n",
       "      <th>1</th>\n",
       "      <td>1</td>\n",
       "      <td>0.0</td>\n",
       "      <td>0.0</td>\n",
       "      <td>Warehouse_Distribution_or_Shipping_center</td>\n",
       "      <td>274000.0</td>\n",
       "      <td>1955.0</td>\n",
       "      <td>45.0</td>\n",
       "      <td>1.8</td>\n",
       "      <td>36</td>\n",
       "      <td>50.5</td>\n",
       "      <td>...</td>\n",
       "      <td>14</td>\n",
       "      <td>0</td>\n",
       "      <td>0</td>\n",
       "      <td>0</td>\n",
       "      <td>1.0</td>\n",
       "      <td>1.0</td>\n",
       "      <td>1.0</td>\n",
       "      <td>12.0</td>\n",
       "      <td>26.500150</td>\n",
       "      <td>1</td>\n",
       "    </tr>\n",
       "    <tr>\n",
       "      <th>2</th>\n",
       "      <td>1</td>\n",
       "      <td>0.0</td>\n",
       "      <td>0.0</td>\n",
       "      <td>Retail_Enclosed_mall</td>\n",
       "      <td>280025.0</td>\n",
       "      <td>1951.0</td>\n",
       "      <td>97.0</td>\n",
       "      <td>1.8</td>\n",
       "      <td>36</td>\n",
       "      <td>50.5</td>\n",
       "      <td>...</td>\n",
       "      <td>14</td>\n",
       "      <td>0</td>\n",
       "      <td>0</td>\n",
       "      <td>0</td>\n",
       "      <td>1.0</td>\n",
       "      <td>1.0</td>\n",
       "      <td>1.0</td>\n",
       "      <td>12.0</td>\n",
       "      <td>24.693619</td>\n",
       "      <td>2</td>\n",
       "    </tr>\n",
       "    <tr>\n",
       "      <th>3</th>\n",
       "      <td>1</td>\n",
       "      <td>0.0</td>\n",
       "      <td>0.0</td>\n",
       "      <td>Education_Other_classroom</td>\n",
       "      <td>55325.0</td>\n",
       "      <td>1980.0</td>\n",
       "      <td>46.0</td>\n",
       "      <td>1.8</td>\n",
       "      <td>36</td>\n",
       "      <td>50.5</td>\n",
       "      <td>...</td>\n",
       "      <td>14</td>\n",
       "      <td>0</td>\n",
       "      <td>0</td>\n",
       "      <td>0</td>\n",
       "      <td>1.0</td>\n",
       "      <td>1.0</td>\n",
       "      <td>1.0</td>\n",
       "      <td>12.0</td>\n",
       "      <td>48.406926</td>\n",
       "      <td>3</td>\n",
       "    </tr>\n",
       "    <tr>\n",
       "      <th>4</th>\n",
       "      <td>1</td>\n",
       "      <td>0.0</td>\n",
       "      <td>0.0</td>\n",
       "      <td>Warehouse_Nonrefrigerated</td>\n",
       "      <td>66000.0</td>\n",
       "      <td>1985.0</td>\n",
       "      <td>100.0</td>\n",
       "      <td>2.4</td>\n",
       "      <td>36</td>\n",
       "      <td>50.5</td>\n",
       "      <td>...</td>\n",
       "      <td>14</td>\n",
       "      <td>0</td>\n",
       "      <td>0</td>\n",
       "      <td>0</td>\n",
       "      <td>1.0</td>\n",
       "      <td>1.0</td>\n",
       "      <td>1.0</td>\n",
       "      <td>104.0</td>\n",
       "      <td>3.899395</td>\n",
       "      <td>4</td>\n",
       "    </tr>\n",
       "  </tbody>\n",
       "</table>\n",
       "<p>5 rows × 64 columns</p>\n",
       "</div>"
      ],
      "text/plain": [
       "   Year_Factor  State_Factor  building_class  \\\n",
       "0            1           0.0             0.0   \n",
       "1            1           0.0             0.0   \n",
       "2            1           0.0             0.0   \n",
       "3            1           0.0             0.0   \n",
       "4            1           0.0             0.0   \n",
       "\n",
       "                               facility_type  floor_area  year_built  \\\n",
       "0               Grocery_store_or_food_market     61242.0      1942.0   \n",
       "1  Warehouse_Distribution_or_Shipping_center    274000.0      1955.0   \n",
       "2                       Retail_Enclosed_mall    280025.0      1951.0   \n",
       "3                  Education_Other_classroom     55325.0      1980.0   \n",
       "4                  Warehouse_Nonrefrigerated     66000.0      1985.0   \n",
       "\n",
       "   energy_star_rating  ELEVATION  january_min_temp  january_avg_temp  ...  \\\n",
       "0                11.0        2.4                36              50.5  ...   \n",
       "1                45.0        1.8                36              50.5  ...   \n",
       "2                97.0        1.8                36              50.5  ...   \n",
       "3                46.0        1.8                36              50.5  ...   \n",
       "4               100.0        2.4                36              50.5  ...   \n",
       "\n",
       "   days_above_80F  days_above_90F  days_above_100F  days_above_110F  \\\n",
       "0              14               0                0                0   \n",
       "1              14               0                0                0   \n",
       "2              14               0                0                0   \n",
       "3              14               0                0                0   \n",
       "4              14               0                0                0   \n",
       "\n",
       "   direction_max_wind_speed  direction_peak_wind_speed  max_wind_speed  \\\n",
       "0                       1.0                        1.0             1.0   \n",
       "1                       1.0                        1.0             1.0   \n",
       "2                       1.0                        1.0             1.0   \n",
       "3                       1.0                        1.0             1.0   \n",
       "4                       1.0                        1.0             1.0   \n",
       "\n",
       "   days_with_fog    site_eui  id  \n",
       "0          104.0  248.682615   0  \n",
       "1           12.0   26.500150   1  \n",
       "2           12.0   24.693619   2  \n",
       "3           12.0   48.406926   3  \n",
       "4          104.0    3.899395   4  \n",
       "\n",
       "[5 rows x 64 columns]"
      ]
     },
     "execution_count": 146,
     "metadata": {},
     "output_type": "execute_result"
    }
   ],
   "source": [
    "train.head()"
   ]
  },
  {
   "cell_type": "code",
   "execution_count": 147,
   "metadata": {},
   "outputs": [
    {
     "data": {
      "text/plain": [
       "{'Multifamily_Uncategorized': 39455,\n",
       " 'Office_Uncategorized': 12512,\n",
       " 'Education_Other_classroom': 3860,\n",
       " 'Lodging_Hotel': 2098,\n",
       " '2to4_Unit_Building': 1893,\n",
       " 'Commercial_Other': 1744,\n",
       " '5plus_Unit_Building': 1273,\n",
       " 'Warehouse_Nonrefrigerated': 1255,\n",
       " 'Retail_Uncategorized': 1130,\n",
       " 'Education_College_or_university': 1056,\n",
       " 'Nursing_Home': 772,\n",
       " 'Education_Uncategorized': 709,\n",
       " 'Mixed_Use_Commercial_and_Residential': 672,\n",
       " 'Lodging_Dormitory_or_fraternity_sorority': 669,\n",
       " 'Warehouse_Distribution_or_Shipping_center': 604,\n",
       " 'Warehouse_Selfstorage': 577,\n",
       " 'Grocery_store_or_food_market': 448,\n",
       " 'Office_Medical_non_diagnostic': 447,\n",
       " 'Health_Care_Inpatient': 409,\n",
       " 'Religious_worship': 399,\n",
       " 'Industrial': 384,\n",
       " 'Warehouse_Uncategorized': 330,\n",
       " 'Mixed_Use_Predominantly_Commercial': 256,\n",
       " 'Parking_Garage': 251,\n",
       " 'Office_Bank_or_other_financial': 173,\n",
       " 'Public_Assembly_Library': 160,\n",
       " 'Public_Safety_Fire_or_police_station': 157,\n",
       " 'Public_Assembly_Other': 142,\n",
       " 'Service_Vehicle_service_repair_shop': 138,\n",
       " 'Retail_Enclosed_mall': 120,\n",
       " 'Retail_Strip_shopping_mall': 113,\n",
       " 'Warehouse_Refrigerated': 113,\n",
       " 'Public_Assembly_Entertainment_culture': 110,\n",
       " 'Education_Preschool_or_daycare': 108,\n",
       " 'Laboratory': 107,\n",
       " 'Commercial_Unknown': 95,\n",
       " 'Public_Assembly_Social_meeting': 88,\n",
       " 'Lodging_Other': 75,\n",
       " 'Retail_Vehicle_dealership_showroom': 74,\n",
       " 'Public_Assembly_Recreation': 72,\n",
       " 'Food_Sales': 70,\n",
       " 'Public_Assembly_Drama_theater': 70,\n",
       " 'Service_Uncategorized': 68,\n",
       " 'Food_Service_Restaurant_or_cafeteria': 64,\n",
       " 'Health_Care_Outpatient_Clinic': 56,\n",
       " 'Health_Care_Uncategorized': 51,\n",
       " 'Public_Safety_Uncategorized': 43,\n",
       " 'Public_Assembly_Movie_Theater': 39,\n",
       " 'Public_Safety_Courthouse': 38,\n",
       " 'Public_Safety_Penitentiary': 37,\n",
       " 'Health_Care_Outpatient_Uncategorized': 36,\n",
       " 'Data_Center': 27,\n",
       " 'Public_Assembly_Uncategorized': 25,\n",
       " 'Food_Service_Uncategorized': 18,\n",
       " 'Office_Mixed_use': 18,\n",
       " 'Food_Service_Other': 17,\n",
       " 'Mixed_Use_Predominantly_Residential': 9,\n",
       " 'Service_Drycleaning_or_Laundry': 9,\n",
       " 'Public_Assembly_Stadium': 9,\n",
       " 'Lodging_Uncategorized': 5}"
      ]
     },
     "execution_count": 147,
     "metadata": {},
     "output_type": "execute_result"
    }
   ],
   "source": [
    "train.facility_type.value_counts().to_dict()"
   ]
  },
  {
   "cell_type": "code",
   "execution_count": 148,
   "metadata": {},
   "outputs": [],
   "source": [
    "facility_type_freq=train.facility_type.value_counts().to_dict()\n"
   ]
  },
  {
   "cell_type": "code",
   "execution_count": 149,
   "metadata": {},
   "outputs": [],
   "source": [
    "train.facility_type=train.facility_type.map(facility_type_freq)"
   ]
  },
  {
   "cell_type": "code",
   "execution_count": 150,
   "metadata": {},
   "outputs": [
    {
     "data": {
      "text/html": [
       "<div>\n",
       "<style scoped>\n",
       "    .dataframe tbody tr th:only-of-type {\n",
       "        vertical-align: middle;\n",
       "    }\n",
       "\n",
       "    .dataframe tbody tr th {\n",
       "        vertical-align: top;\n",
       "    }\n",
       "\n",
       "    .dataframe thead th {\n",
       "        text-align: right;\n",
       "    }\n",
       "</style>\n",
       "<table border=\"1\" class=\"dataframe\">\n",
       "  <thead>\n",
       "    <tr style=\"text-align: right;\">\n",
       "      <th></th>\n",
       "      <th>Year_Factor</th>\n",
       "      <th>State_Factor</th>\n",
       "      <th>building_class</th>\n",
       "      <th>facility_type</th>\n",
       "      <th>floor_area</th>\n",
       "      <th>year_built</th>\n",
       "      <th>energy_star_rating</th>\n",
       "      <th>ELEVATION</th>\n",
       "      <th>january_min_temp</th>\n",
       "      <th>january_avg_temp</th>\n",
       "      <th>...</th>\n",
       "      <th>days_above_80F</th>\n",
       "      <th>days_above_90F</th>\n",
       "      <th>days_above_100F</th>\n",
       "      <th>days_above_110F</th>\n",
       "      <th>direction_max_wind_speed</th>\n",
       "      <th>direction_peak_wind_speed</th>\n",
       "      <th>max_wind_speed</th>\n",
       "      <th>days_with_fog</th>\n",
       "      <th>site_eui</th>\n",
       "      <th>id</th>\n",
       "    </tr>\n",
       "  </thead>\n",
       "  <tbody>\n",
       "    <tr>\n",
       "      <th>0</th>\n",
       "      <td>1</td>\n",
       "      <td>0.0</td>\n",
       "      <td>0.0</td>\n",
       "      <td>448</td>\n",
       "      <td>61242.0</td>\n",
       "      <td>1942.0</td>\n",
       "      <td>11.0</td>\n",
       "      <td>2.4</td>\n",
       "      <td>36</td>\n",
       "      <td>50.5</td>\n",
       "      <td>...</td>\n",
       "      <td>14</td>\n",
       "      <td>0</td>\n",
       "      <td>0</td>\n",
       "      <td>0</td>\n",
       "      <td>1.0</td>\n",
       "      <td>1.0</td>\n",
       "      <td>1.0</td>\n",
       "      <td>104.0</td>\n",
       "      <td>248.682615</td>\n",
       "      <td>0</td>\n",
       "    </tr>\n",
       "    <tr>\n",
       "      <th>1</th>\n",
       "      <td>1</td>\n",
       "      <td>0.0</td>\n",
       "      <td>0.0</td>\n",
       "      <td>604</td>\n",
       "      <td>274000.0</td>\n",
       "      <td>1955.0</td>\n",
       "      <td>45.0</td>\n",
       "      <td>1.8</td>\n",
       "      <td>36</td>\n",
       "      <td>50.5</td>\n",
       "      <td>...</td>\n",
       "      <td>14</td>\n",
       "      <td>0</td>\n",
       "      <td>0</td>\n",
       "      <td>0</td>\n",
       "      <td>1.0</td>\n",
       "      <td>1.0</td>\n",
       "      <td>1.0</td>\n",
       "      <td>12.0</td>\n",
       "      <td>26.500150</td>\n",
       "      <td>1</td>\n",
       "    </tr>\n",
       "    <tr>\n",
       "      <th>2</th>\n",
       "      <td>1</td>\n",
       "      <td>0.0</td>\n",
       "      <td>0.0</td>\n",
       "      <td>120</td>\n",
       "      <td>280025.0</td>\n",
       "      <td>1951.0</td>\n",
       "      <td>97.0</td>\n",
       "      <td>1.8</td>\n",
       "      <td>36</td>\n",
       "      <td>50.5</td>\n",
       "      <td>...</td>\n",
       "      <td>14</td>\n",
       "      <td>0</td>\n",
       "      <td>0</td>\n",
       "      <td>0</td>\n",
       "      <td>1.0</td>\n",
       "      <td>1.0</td>\n",
       "      <td>1.0</td>\n",
       "      <td>12.0</td>\n",
       "      <td>24.693619</td>\n",
       "      <td>2</td>\n",
       "    </tr>\n",
       "    <tr>\n",
       "      <th>3</th>\n",
       "      <td>1</td>\n",
       "      <td>0.0</td>\n",
       "      <td>0.0</td>\n",
       "      <td>3860</td>\n",
       "      <td>55325.0</td>\n",
       "      <td>1980.0</td>\n",
       "      <td>46.0</td>\n",
       "      <td>1.8</td>\n",
       "      <td>36</td>\n",
       "      <td>50.5</td>\n",
       "      <td>...</td>\n",
       "      <td>14</td>\n",
       "      <td>0</td>\n",
       "      <td>0</td>\n",
       "      <td>0</td>\n",
       "      <td>1.0</td>\n",
       "      <td>1.0</td>\n",
       "      <td>1.0</td>\n",
       "      <td>12.0</td>\n",
       "      <td>48.406926</td>\n",
       "      <td>3</td>\n",
       "    </tr>\n",
       "    <tr>\n",
       "      <th>4</th>\n",
       "      <td>1</td>\n",
       "      <td>0.0</td>\n",
       "      <td>0.0</td>\n",
       "      <td>1255</td>\n",
       "      <td>66000.0</td>\n",
       "      <td>1985.0</td>\n",
       "      <td>100.0</td>\n",
       "      <td>2.4</td>\n",
       "      <td>36</td>\n",
       "      <td>50.5</td>\n",
       "      <td>...</td>\n",
       "      <td>14</td>\n",
       "      <td>0</td>\n",
       "      <td>0</td>\n",
       "      <td>0</td>\n",
       "      <td>1.0</td>\n",
       "      <td>1.0</td>\n",
       "      <td>1.0</td>\n",
       "      <td>104.0</td>\n",
       "      <td>3.899395</td>\n",
       "      <td>4</td>\n",
       "    </tr>\n",
       "  </tbody>\n",
       "</table>\n",
       "<p>5 rows × 64 columns</p>\n",
       "</div>"
      ],
      "text/plain": [
       "   Year_Factor  State_Factor  building_class  facility_type  floor_area  \\\n",
       "0            1           0.0             0.0            448     61242.0   \n",
       "1            1           0.0             0.0            604    274000.0   \n",
       "2            1           0.0             0.0            120    280025.0   \n",
       "3            1           0.0             0.0           3860     55325.0   \n",
       "4            1           0.0             0.0           1255     66000.0   \n",
       "\n",
       "   year_built  energy_star_rating  ELEVATION  january_min_temp  \\\n",
       "0      1942.0                11.0        2.4                36   \n",
       "1      1955.0                45.0        1.8                36   \n",
       "2      1951.0                97.0        1.8                36   \n",
       "3      1980.0                46.0        1.8                36   \n",
       "4      1985.0               100.0        2.4                36   \n",
       "\n",
       "   january_avg_temp  ...  days_above_80F  days_above_90F  days_above_100F  \\\n",
       "0              50.5  ...              14               0                0   \n",
       "1              50.5  ...              14               0                0   \n",
       "2              50.5  ...              14               0                0   \n",
       "3              50.5  ...              14               0                0   \n",
       "4              50.5  ...              14               0                0   \n",
       "\n",
       "   days_above_110F  direction_max_wind_speed  direction_peak_wind_speed  \\\n",
       "0                0                       1.0                        1.0   \n",
       "1                0                       1.0                        1.0   \n",
       "2                0                       1.0                        1.0   \n",
       "3                0                       1.0                        1.0   \n",
       "4                0                       1.0                        1.0   \n",
       "\n",
       "   max_wind_speed  days_with_fog    site_eui  id  \n",
       "0             1.0          104.0  248.682615   0  \n",
       "1             1.0           12.0   26.500150   1  \n",
       "2             1.0           12.0   24.693619   2  \n",
       "3             1.0           12.0   48.406926   3  \n",
       "4             1.0          104.0    3.899395   4  \n",
       "\n",
       "[5 rows x 64 columns]"
      ]
     },
     "execution_count": 150,
     "metadata": {},
     "output_type": "execute_result"
    }
   ],
   "source": [
    "train.head()"
   ]
  },
  {
   "cell_type": "code",
   "execution_count": 151,
   "metadata": {},
   "outputs": [
    {
     "data": {
      "text/plain": [
       "6    22449\n",
       "5    18308\n",
       "4    12946\n",
       "3    10879\n",
       "2     9058\n",
       "1     2117\n",
       "Name: Year_Factor, dtype: int64"
      ]
     },
     "execution_count": 151,
     "metadata": {},
     "output_type": "execute_result"
    }
   ],
   "source": [
    "train['Year_Factor'].value_counts()"
   ]
  },
  {
   "cell_type": "code",
   "execution_count": 152,
   "metadata": {},
   "outputs": [],
   "source": [
    "#train.drop({[''], axis=1, inplace=True)"
   ]
  },
  {
   "cell_type": "code",
   "execution_count": 153,
   "metadata": {},
   "outputs": [
    {
     "data": {
      "text/plain": [
       "Index(['Year_Factor', 'State_Factor', 'building_class', 'facility_type',\n",
       "       'floor_area', 'year_built', 'energy_star_rating', 'ELEVATION',\n",
       "       'january_min_temp', 'january_avg_temp', 'january_max_temp',\n",
       "       'february_min_temp', 'february_avg_temp', 'february_max_temp',\n",
       "       'march_min_temp', 'march_avg_temp', 'march_max_temp', 'april_min_temp',\n",
       "       'april_avg_temp', 'april_max_temp', 'may_min_temp', 'may_avg_temp',\n",
       "       'may_max_temp', 'june_min_temp', 'june_avg_temp', 'june_max_temp',\n",
       "       'july_min_temp', 'july_avg_temp', 'july_max_temp', 'august_min_temp',\n",
       "       'august_avg_temp', 'august_max_temp', 'september_min_temp',\n",
       "       'september_avg_temp', 'september_max_temp', 'october_min_temp',\n",
       "       'october_avg_temp', 'october_max_temp', 'november_min_temp',\n",
       "       'november_avg_temp', 'november_max_temp', 'december_min_temp',\n",
       "       'december_avg_temp', 'december_max_temp', 'cooling_degree_days',\n",
       "       'heating_degree_days', 'precipitation_inches', 'snowfall_inches',\n",
       "       'snowdepth_inches', 'avg_temp', 'days_below_30F', 'days_below_20F',\n",
       "       'days_below_10F', 'days_below_0F', 'days_above_80F', 'days_above_90F',\n",
       "       'days_above_100F', 'days_above_110F', 'direction_max_wind_speed',\n",
       "       'direction_peak_wind_speed', 'max_wind_speed', 'days_with_fog',\n",
       "       'site_eui', 'id'],\n",
       "      dtype='object')"
      ]
     },
     "execution_count": 153,
     "metadata": {},
     "output_type": "execute_result"
    }
   ],
   "source": [
    "train.columns"
   ]
  },
  {
   "cell_type": "code",
   "execution_count": 154,
   "metadata": {},
   "outputs": [],
   "source": [
    "firstQ=(train['january_avg_temp']+train['february_avg_temp']+train['march_avg_temp'])/4\n",
    "SecondQ=(train['april_avg_temp']+train['may_avg_temp']+train['june_avg_temp'])/4\n",
    "thirdQ=(train['july_avg_temp']+train['august_avg_temp']+train['september_avg_temp'])/4\n",
    "fourthQ=(train['october_avg_temp']+train['november_avg_temp']+train['december_avg_temp'])/4"
   ]
  },
  {
   "cell_type": "code",
   "execution_count": 155,
   "metadata": {},
   "outputs": [],
   "source": [
    "dropped=['january_min_temp','january_max_temp','february_min_temp','february_max_temp',\n",
    "       'march_min_temp','march_max_temp', 'april_min_temp',\n",
    "       'april_max_temp', 'may_min_temp',\n",
    "       'may_max_temp', 'june_min_temp','june_max_temp',\n",
    "       'july_min_temp', 'july_max_temp', 'august_min_temp',\n",
    "       'august_max_temp', 'september_min_temp',\n",
    "       'september_max_temp', 'october_min_temp',\n",
    "        'october_max_temp', 'november_min_temp',\n",
    "       'november_max_temp', 'december_min_temp',\n",
    "       'december_max_temp']\n",
    "train.drop(dropped, axis=1, inplace=True)\n"
   ]
  },
  {
   "cell_type": "code",
   "execution_count": 156,
   "metadata": {},
   "outputs": [],
   "source": [
    "train.drop(['id'], axis=1, inplace=True)"
   ]
  },
  {
   "cell_type": "code",
   "execution_count": 157,
   "metadata": {},
   "outputs": [],
   "source": [
    "train.drop(['days_above_110F','days_above_100F','days_above_90F','days_below_20F','days_below_10F'], axis=1, inplace=True)"
   ]
  },
  {
   "cell_type": "code",
   "execution_count": 158,
   "metadata": {},
   "outputs": [],
   "source": [
    "train.drop(['january_avg_temp', 'february_avg_temp', 'march_avg_temp',\n",
    "       'april_avg_temp', 'may_avg_temp', 'june_avg_temp', 'july_avg_temp',\n",
    "       'august_avg_temp', 'september_avg_temp', 'october_avg_temp',\n",
    "       'november_avg_temp', 'december_avg_temp'], axis=1, inplace=True)\n"
   ]
  },
  {
   "cell_type": "code",
   "execution_count": 159,
   "metadata": {},
   "outputs": [],
   "source": [
    "train.drop(['days_below_0F'], axis=1, inplace=True)"
   ]
  },
  {
   "cell_type": "code",
   "execution_count": 160,
   "metadata": {},
   "outputs": [],
   "source": [
    "train.drop(['direction_peak_wind_speed'],axis=1,inplace=True)\n",
    "train.drop(['snowdepth_inches'],axis=1,inplace=True)\n"
   ]
  },
  {
   "cell_type": "code",
   "execution_count": 161,
   "metadata": {},
   "outputs": [],
   "source": [
    "train['firstQ']=firstQ\n",
    "train['secondQ']=SecondQ\n",
    "train['thirdQ']=thirdQ\n",
    "train['fourthQ']=fourthQ"
   ]
  },
  {
   "cell_type": "code",
   "execution_count": 162,
   "metadata": {},
   "outputs": [
    {
     "data": {
      "text/html": [
       "<div>\n",
       "<style scoped>\n",
       "    .dataframe tbody tr th:only-of-type {\n",
       "        vertical-align: middle;\n",
       "    }\n",
       "\n",
       "    .dataframe tbody tr th {\n",
       "        vertical-align: top;\n",
       "    }\n",
       "\n",
       "    .dataframe thead th {\n",
       "        text-align: right;\n",
       "    }\n",
       "</style>\n",
       "<table border=\"1\" class=\"dataframe\">\n",
       "  <thead>\n",
       "    <tr style=\"text-align: right;\">\n",
       "      <th></th>\n",
       "      <th>Year_Factor</th>\n",
       "      <th>State_Factor</th>\n",
       "      <th>building_class</th>\n",
       "      <th>facility_type</th>\n",
       "      <th>floor_area</th>\n",
       "      <th>year_built</th>\n",
       "      <th>energy_star_rating</th>\n",
       "      <th>ELEVATION</th>\n",
       "      <th>cooling_degree_days</th>\n",
       "      <th>heating_degree_days</th>\n",
       "      <th>...</th>\n",
       "      <th>days_below_30F</th>\n",
       "      <th>days_above_80F</th>\n",
       "      <th>direction_max_wind_speed</th>\n",
       "      <th>max_wind_speed</th>\n",
       "      <th>days_with_fog</th>\n",
       "      <th>site_eui</th>\n",
       "      <th>firstQ</th>\n",
       "      <th>secondQ</th>\n",
       "      <th>thirdQ</th>\n",
       "      <th>fourthQ</th>\n",
       "    </tr>\n",
       "  </thead>\n",
       "  <tbody>\n",
       "    <tr>\n",
       "      <th>0</th>\n",
       "      <td>1</td>\n",
       "      <td>0.0</td>\n",
       "      <td>0.0</td>\n",
       "      <td>448</td>\n",
       "      <td>61242.0</td>\n",
       "      <td>1942.0</td>\n",
       "      <td>11.0</td>\n",
       "      <td>2.4</td>\n",
       "      <td>115</td>\n",
       "      <td>2960</td>\n",
       "      <td>...</td>\n",
       "      <td>0</td>\n",
       "      <td>14</td>\n",
       "      <td>1.0</td>\n",
       "      <td>1.0</td>\n",
       "      <td>104.0</td>\n",
       "      <td>248.682615</td>\n",
       "      <td>38.695709</td>\n",
       "      <td>43.21371</td>\n",
       "      <td>47.384274</td>\n",
       "      <td>41.522581</td>\n",
       "    </tr>\n",
       "    <tr>\n",
       "      <th>1</th>\n",
       "      <td>1</td>\n",
       "      <td>0.0</td>\n",
       "      <td>0.0</td>\n",
       "      <td>604</td>\n",
       "      <td>274000.0</td>\n",
       "      <td>1955.0</td>\n",
       "      <td>45.0</td>\n",
       "      <td>1.8</td>\n",
       "      <td>115</td>\n",
       "      <td>2960</td>\n",
       "      <td>...</td>\n",
       "      <td>0</td>\n",
       "      <td>14</td>\n",
       "      <td>1.0</td>\n",
       "      <td>1.0</td>\n",
       "      <td>12.0</td>\n",
       "      <td>26.500150</td>\n",
       "      <td>38.695709</td>\n",
       "      <td>43.21371</td>\n",
       "      <td>47.384274</td>\n",
       "      <td>41.522581</td>\n",
       "    </tr>\n",
       "    <tr>\n",
       "      <th>2</th>\n",
       "      <td>1</td>\n",
       "      <td>0.0</td>\n",
       "      <td>0.0</td>\n",
       "      <td>120</td>\n",
       "      <td>280025.0</td>\n",
       "      <td>1951.0</td>\n",
       "      <td>97.0</td>\n",
       "      <td>1.8</td>\n",
       "      <td>115</td>\n",
       "      <td>2960</td>\n",
       "      <td>...</td>\n",
       "      <td>0</td>\n",
       "      <td>14</td>\n",
       "      <td>1.0</td>\n",
       "      <td>1.0</td>\n",
       "      <td>12.0</td>\n",
       "      <td>24.693619</td>\n",
       "      <td>38.695709</td>\n",
       "      <td>43.21371</td>\n",
       "      <td>47.384274</td>\n",
       "      <td>41.522581</td>\n",
       "    </tr>\n",
       "    <tr>\n",
       "      <th>3</th>\n",
       "      <td>1</td>\n",
       "      <td>0.0</td>\n",
       "      <td>0.0</td>\n",
       "      <td>3860</td>\n",
       "      <td>55325.0</td>\n",
       "      <td>1980.0</td>\n",
       "      <td>46.0</td>\n",
       "      <td>1.8</td>\n",
       "      <td>115</td>\n",
       "      <td>2960</td>\n",
       "      <td>...</td>\n",
       "      <td>0</td>\n",
       "      <td>14</td>\n",
       "      <td>1.0</td>\n",
       "      <td>1.0</td>\n",
       "      <td>12.0</td>\n",
       "      <td>48.406926</td>\n",
       "      <td>38.695709</td>\n",
       "      <td>43.21371</td>\n",
       "      <td>47.384274</td>\n",
       "      <td>41.522581</td>\n",
       "    </tr>\n",
       "    <tr>\n",
       "      <th>4</th>\n",
       "      <td>1</td>\n",
       "      <td>0.0</td>\n",
       "      <td>0.0</td>\n",
       "      <td>1255</td>\n",
       "      <td>66000.0</td>\n",
       "      <td>1985.0</td>\n",
       "      <td>100.0</td>\n",
       "      <td>2.4</td>\n",
       "      <td>115</td>\n",
       "      <td>2960</td>\n",
       "      <td>...</td>\n",
       "      <td>0</td>\n",
       "      <td>14</td>\n",
       "      <td>1.0</td>\n",
       "      <td>1.0</td>\n",
       "      <td>104.0</td>\n",
       "      <td>3.899395</td>\n",
       "      <td>38.695709</td>\n",
       "      <td>43.21371</td>\n",
       "      <td>47.384274</td>\n",
       "      <td>41.522581</td>\n",
       "    </tr>\n",
       "  </tbody>\n",
       "</table>\n",
       "<p>5 rows × 23 columns</p>\n",
       "</div>"
      ],
      "text/plain": [
       "   Year_Factor  State_Factor  building_class  facility_type  floor_area  \\\n",
       "0            1           0.0             0.0            448     61242.0   \n",
       "1            1           0.0             0.0            604    274000.0   \n",
       "2            1           0.0             0.0            120    280025.0   \n",
       "3            1           0.0             0.0           3860     55325.0   \n",
       "4            1           0.0             0.0           1255     66000.0   \n",
       "\n",
       "   year_built  energy_star_rating  ELEVATION  cooling_degree_days  \\\n",
       "0      1942.0                11.0        2.4                  115   \n",
       "1      1955.0                45.0        1.8                  115   \n",
       "2      1951.0                97.0        1.8                  115   \n",
       "3      1980.0                46.0        1.8                  115   \n",
       "4      1985.0               100.0        2.4                  115   \n",
       "\n",
       "   heating_degree_days  ...  days_below_30F  days_above_80F  \\\n",
       "0                 2960  ...               0              14   \n",
       "1                 2960  ...               0              14   \n",
       "2                 2960  ...               0              14   \n",
       "3                 2960  ...               0              14   \n",
       "4                 2960  ...               0              14   \n",
       "\n",
       "   direction_max_wind_speed  max_wind_speed  days_with_fog    site_eui  \\\n",
       "0                       1.0             1.0          104.0  248.682615   \n",
       "1                       1.0             1.0           12.0   26.500150   \n",
       "2                       1.0             1.0           12.0   24.693619   \n",
       "3                       1.0             1.0           12.0   48.406926   \n",
       "4                       1.0             1.0          104.0    3.899395   \n",
       "\n",
       "      firstQ   secondQ     thirdQ    fourthQ  \n",
       "0  38.695709  43.21371  47.384274  41.522581  \n",
       "1  38.695709  43.21371  47.384274  41.522581  \n",
       "2  38.695709  43.21371  47.384274  41.522581  \n",
       "3  38.695709  43.21371  47.384274  41.522581  \n",
       "4  38.695709  43.21371  47.384274  41.522581  \n",
       "\n",
       "[5 rows x 23 columns]"
      ]
     },
     "execution_count": 162,
     "metadata": {},
     "output_type": "execute_result"
    }
   ],
   "source": [
    "train.head()"
   ]
  },
  {
   "cell_type": "code",
   "execution_count": null,
   "metadata": {},
   "outputs": [],
   "source": []
  },
  {
   "cell_type": "code",
   "execution_count": 189,
   "metadata": {},
   "outputs": [],
   "source": [
    "x = train.drop('site_eui',axis=1)\n",
    "y = train['site_eui']\n",
    "X_train, X_test, Y_train, Y_test = train_test_split(X, Y, test_size=0.3)"
   ]
  },
  {
   "cell_type": "code",
   "execution_count": 190,
   "metadata": {},
   "outputs": [],
   "source": [
    "#Create a Gaussian Classifier\n",
    "clf=RandomForestRegressor(n_estimators=200)\n",
    "\n",
    "#Train the model using the training sets y_pred=clf.predict(X_test)\n",
    "clf.fit(X_train,Y_train)\n",
    "\n",
    "y_pred=clf.predict(X_test)"
   ]
  },
  {
   "cell_type": "code",
   "execution_count": 191,
   "metadata": {},
   "outputs": [
    {
     "name": "stdout",
     "output_type": "stream",
     "text": [
      "0.5158648182187355\n",
      "1715.6975221340542\n",
      "41.42097925126897\n"
     ]
    }
   ],
   "source": [
    "r2 = r2_score(Y_test,y_pred)\n",
    "mse = mean_squared_error(Y_test,y_pred)\n",
    "rmse = np.sqrt(mse)\n",
    "\n",
    "print(r2)\n",
    "print(mse)\n",
    "print(rmse)"
   ]
  },
  {
   "cell_type": "code",
   "execution_count": 84,
   "metadata": {},
   "outputs": [
    {
     "data": {
      "text/plain": [
       "Index(['Year_Factor', 'State_Factor', 'building_class', 'facility_type',\n",
       "       'floor_area', 'year_built', 'energy_star_rating', 'ELEVATION',\n",
       "       'cooling_degree_days', 'heating_degree_days', 'precipitation_inches',\n",
       "       'snowfall_inches', 'avg_temp', 'days_below_30F', 'days_above_80F',\n",
       "       'direction_max_wind_speed', 'max_wind_speed', 'days_with_fog',\n",
       "       'site_eui', 'firstQ', 'secondQ', 'thirdQ', 'fourthQ'],\n",
       "      dtype='object')"
      ]
     },
     "execution_count": 84,
     "metadata": {},
     "output_type": "execute_result"
    }
   ],
   "source": [
    "train.columns"
   ]
  },
  {
   "cell_type": "code",
   "execution_count": 85,
   "metadata": {},
   "outputs": [
    {
     "data": {
      "text/plain": [
       "max_wind_speed              0.002927\n",
       "direction_max_wind_speed    0.003283\n",
       "cooling_degree_days         0.006072\n",
       "Year_Factor                 0.006235\n",
       "avg_temp                    0.006415\n",
       "thirdQ                      0.006896\n",
       "fourthQ                     0.008974\n",
       "days_above_80F              0.009723\n",
       "heating_degree_days         0.009821\n",
       "days_below_30F              0.009899\n",
       "precipitation_inches        0.013281\n",
       "snowfall_inches             0.013355\n",
       "State_Factor                0.014722\n",
       "secondQ                     0.015232\n",
       "days_with_fog               0.017953\n",
       "building_class              0.018499\n",
       "firstQ                      0.023209\n",
       "ELEVATION                   0.033341\n",
       "year_built                  0.140398\n",
       "energy_star_rating          0.193804\n",
       "facility_type               0.197334\n",
       "floor_area                  0.248626\n",
       "dtype: float64"
      ]
     },
     "execution_count": 85,
     "metadata": {},
     "output_type": "execute_result"
    }
   ],
   "source": [
    "feat=[i for i in X.columns]\n",
    "imp=pd.Series(clf.feature_importances_,index=feat).sort_values()\n",
    "imp"
   ]
  },
  {
   "cell_type": "code",
   "execution_count": 163,
   "metadata": {},
   "outputs": [],
   "source": [
    "x_test=pd.read_csv(\"test.csv.zip\")"
   ]
  },
  {
   "cell_type": "code",
   "execution_count": 164,
   "metadata": {},
   "outputs": [
    {
     "data": {
      "text/html": [
       "<div>\n",
       "<style scoped>\n",
       "    .dataframe tbody tr th:only-of-type {\n",
       "        vertical-align: middle;\n",
       "    }\n",
       "\n",
       "    .dataframe tbody tr th {\n",
       "        vertical-align: top;\n",
       "    }\n",
       "\n",
       "    .dataframe thead th {\n",
       "        text-align: right;\n",
       "    }\n",
       "</style>\n",
       "<table border=\"1\" class=\"dataframe\">\n",
       "  <thead>\n",
       "    <tr style=\"text-align: right;\">\n",
       "      <th></th>\n",
       "      <th>Year_Factor</th>\n",
       "      <th>State_Factor</th>\n",
       "      <th>building_class</th>\n",
       "      <th>facility_type</th>\n",
       "      <th>floor_area</th>\n",
       "      <th>year_built</th>\n",
       "      <th>energy_star_rating</th>\n",
       "      <th>ELEVATION</th>\n",
       "      <th>january_min_temp</th>\n",
       "      <th>january_avg_temp</th>\n",
       "      <th>...</th>\n",
       "      <th>days_below_0F</th>\n",
       "      <th>days_above_80F</th>\n",
       "      <th>days_above_90F</th>\n",
       "      <th>days_above_100F</th>\n",
       "      <th>days_above_110F</th>\n",
       "      <th>direction_max_wind_speed</th>\n",
       "      <th>direction_peak_wind_speed</th>\n",
       "      <th>max_wind_speed</th>\n",
       "      <th>days_with_fog</th>\n",
       "      <th>id</th>\n",
       "    </tr>\n",
       "  </thead>\n",
       "  <tbody>\n",
       "    <tr>\n",
       "      <th>0</th>\n",
       "      <td>7</td>\n",
       "      <td>State_1</td>\n",
       "      <td>Commercial</td>\n",
       "      <td>Grocery_store_or_food_market</td>\n",
       "      <td>28484.0</td>\n",
       "      <td>1994.0</td>\n",
       "      <td>37.0</td>\n",
       "      <td>2.4</td>\n",
       "      <td>38</td>\n",
       "      <td>50.596774</td>\n",
       "      <td>...</td>\n",
       "      <td>0</td>\n",
       "      <td>29</td>\n",
       "      <td>5</td>\n",
       "      <td>2</td>\n",
       "      <td>0</td>\n",
       "      <td>NaN</td>\n",
       "      <td>NaN</td>\n",
       "      <td>NaN</td>\n",
       "      <td>NaN</td>\n",
       "      <td>75757</td>\n",
       "    </tr>\n",
       "    <tr>\n",
       "      <th>1</th>\n",
       "      <td>7</td>\n",
       "      <td>State_1</td>\n",
       "      <td>Commercial</td>\n",
       "      <td>Grocery_store_or_food_market</td>\n",
       "      <td>21906.0</td>\n",
       "      <td>1961.0</td>\n",
       "      <td>55.0</td>\n",
       "      <td>45.7</td>\n",
       "      <td>38</td>\n",
       "      <td>50.596774</td>\n",
       "      <td>...</td>\n",
       "      <td>0</td>\n",
       "      <td>29</td>\n",
       "      <td>5</td>\n",
       "      <td>2</td>\n",
       "      <td>0</td>\n",
       "      <td>NaN</td>\n",
       "      <td>NaN</td>\n",
       "      <td>NaN</td>\n",
       "      <td>NaN</td>\n",
       "      <td>75758</td>\n",
       "    </tr>\n",
       "    <tr>\n",
       "      <th>2</th>\n",
       "      <td>7</td>\n",
       "      <td>State_1</td>\n",
       "      <td>Commercial</td>\n",
       "      <td>Grocery_store_or_food_market</td>\n",
       "      <td>16138.0</td>\n",
       "      <td>1950.0</td>\n",
       "      <td>1.0</td>\n",
       "      <td>59.1</td>\n",
       "      <td>38</td>\n",
       "      <td>50.596774</td>\n",
       "      <td>...</td>\n",
       "      <td>0</td>\n",
       "      <td>29</td>\n",
       "      <td>5</td>\n",
       "      <td>2</td>\n",
       "      <td>0</td>\n",
       "      <td>NaN</td>\n",
       "      <td>NaN</td>\n",
       "      <td>NaN</td>\n",
       "      <td>NaN</td>\n",
       "      <td>75759</td>\n",
       "    </tr>\n",
       "    <tr>\n",
       "      <th>3</th>\n",
       "      <td>7</td>\n",
       "      <td>State_1</td>\n",
       "      <td>Commercial</td>\n",
       "      <td>Grocery_store_or_food_market</td>\n",
       "      <td>97422.0</td>\n",
       "      <td>1971.0</td>\n",
       "      <td>34.0</td>\n",
       "      <td>35.4</td>\n",
       "      <td>38</td>\n",
       "      <td>50.596774</td>\n",
       "      <td>...</td>\n",
       "      <td>0</td>\n",
       "      <td>29</td>\n",
       "      <td>5</td>\n",
       "      <td>2</td>\n",
       "      <td>0</td>\n",
       "      <td>NaN</td>\n",
       "      <td>NaN</td>\n",
       "      <td>NaN</td>\n",
       "      <td>NaN</td>\n",
       "      <td>75760</td>\n",
       "    </tr>\n",
       "    <tr>\n",
       "      <th>4</th>\n",
       "      <td>7</td>\n",
       "      <td>State_1</td>\n",
       "      <td>Commercial</td>\n",
       "      <td>Grocery_store_or_food_market</td>\n",
       "      <td>61242.0</td>\n",
       "      <td>1942.0</td>\n",
       "      <td>35.0</td>\n",
       "      <td>1.8</td>\n",
       "      <td>38</td>\n",
       "      <td>50.596774</td>\n",
       "      <td>...</td>\n",
       "      <td>0</td>\n",
       "      <td>29</td>\n",
       "      <td>5</td>\n",
       "      <td>2</td>\n",
       "      <td>0</td>\n",
       "      <td>340.0</td>\n",
       "      <td>330.0</td>\n",
       "      <td>22.8</td>\n",
       "      <td>126.0</td>\n",
       "      <td>75761</td>\n",
       "    </tr>\n",
       "  </tbody>\n",
       "</table>\n",
       "<p>5 rows × 63 columns</p>\n",
       "</div>"
      ],
      "text/plain": [
       "   Year_Factor State_Factor building_class                 facility_type  \\\n",
       "0            7      State_1     Commercial  Grocery_store_or_food_market   \n",
       "1            7      State_1     Commercial  Grocery_store_or_food_market   \n",
       "2            7      State_1     Commercial  Grocery_store_or_food_market   \n",
       "3            7      State_1     Commercial  Grocery_store_or_food_market   \n",
       "4            7      State_1     Commercial  Grocery_store_or_food_market   \n",
       "\n",
       "   floor_area  year_built  energy_star_rating  ELEVATION  january_min_temp  \\\n",
       "0     28484.0      1994.0                37.0        2.4                38   \n",
       "1     21906.0      1961.0                55.0       45.7                38   \n",
       "2     16138.0      1950.0                 1.0       59.1                38   \n",
       "3     97422.0      1971.0                34.0       35.4                38   \n",
       "4     61242.0      1942.0                35.0        1.8                38   \n",
       "\n",
       "   january_avg_temp  ...  days_below_0F  days_above_80F  days_above_90F  \\\n",
       "0         50.596774  ...              0              29               5   \n",
       "1         50.596774  ...              0              29               5   \n",
       "2         50.596774  ...              0              29               5   \n",
       "3         50.596774  ...              0              29               5   \n",
       "4         50.596774  ...              0              29               5   \n",
       "\n",
       "   days_above_100F  days_above_110F  direction_max_wind_speed  \\\n",
       "0                2                0                       NaN   \n",
       "1                2                0                       NaN   \n",
       "2                2                0                       NaN   \n",
       "3                2                0                       NaN   \n",
       "4                2                0                     340.0   \n",
       "\n",
       "   direction_peak_wind_speed  max_wind_speed  days_with_fog     id  \n",
       "0                        NaN             NaN            NaN  75757  \n",
       "1                        NaN             NaN            NaN  75758  \n",
       "2                        NaN             NaN            NaN  75759  \n",
       "3                        NaN             NaN            NaN  75760  \n",
       "4                      330.0            22.8          126.0  75761  \n",
       "\n",
       "[5 rows x 63 columns]"
      ]
     },
     "execution_count": 164,
     "metadata": {},
     "output_type": "execute_result"
    }
   ],
   "source": [
    "x_test.head()"
   ]
  },
  {
   "cell_type": "code",
   "execution_count": 165,
   "metadata": {},
   "outputs": [
    {
     "data": {
      "text/plain": [
       "Year_Factor                     0\n",
       "State_Factor                    0\n",
       "building_class                  0\n",
       "facility_type                   0\n",
       "floor_area                      0\n",
       "                             ... \n",
       "direction_max_wind_speed     8575\n",
       "direction_peak_wind_speed    8575\n",
       "max_wind_speed               8575\n",
       "days_with_fog                9117\n",
       "id                              0\n",
       "Length: 63, dtype: int64"
      ]
     },
     "execution_count": 165,
     "metadata": {},
     "output_type": "execute_result"
    }
   ],
   "source": [
    "xnullValues=x_test.isnull().sum()\n",
    "xnullValues"
   ]
  },
  {
   "cell_type": "code",
   "execution_count": 166,
   "metadata": {},
   "outputs": [
    {
     "data": {
      "text/plain": [
       "year_built                     92\n",
       "energy_star_rating           2254\n",
       "direction_max_wind_speed     8575\n",
       "direction_peak_wind_speed    8575\n",
       "max_wind_speed               8575\n",
       "days_with_fog                9117\n",
       "dtype: int64"
      ]
     },
     "execution_count": 166,
     "metadata": {},
     "output_type": "execute_result"
    }
   ],
   "source": [
    "xnullValues[xnullValues>0]"
   ]
  },
  {
   "cell_type": "code",
   "execution_count": 167,
   "metadata": {},
   "outputs": [],
   "source": [
    "x_test['year_built'].fillna(x_test['year_built'].median(),inplace=True)\n",
    "x_test['energy_star_rating'].fillna(x_test['energy_star_rating'].median(),inplace=True)\n",
    "x_test['direction_max_wind_speed'].fillna(x_test['direction_max_wind_speed'].median(),inplace=True)\n",
    "x_test['direction_peak_wind_speed'].fillna(x_test['direction_peak_wind_speed'].median(),inplace=True)\n",
    "x_test['days_with_fog'].fillna(x_test['days_with_fog'].median(),inplace=True)\n",
    "x_test['max_wind_speed'].fillna(x_test['max_wind_speed'].median(),inplace=True)"
   ]
  },
  {
   "cell_type": "code",
   "execution_count": 168,
   "metadata": {},
   "outputs": [
    {
     "data": {
      "text/plain": [
       "State_11    3268\n",
       "State_4     2568\n",
       "State_2     1515\n",
       "State_8     1323\n",
       "State_1     1027\n",
       "State_10       4\n",
       "Name: State_Factor, dtype: int64"
      ]
     },
     "execution_count": 168,
     "metadata": {},
     "output_type": "execute_result"
    }
   ],
   "source": [
    "x_test['State_Factor'].value_counts()"
   ]
  },
  {
   "cell_type": "code",
   "execution_count": 169,
   "metadata": {},
   "outputs": [],
   "source": [
    "State_Factor=['State_1','State_2','State_4','State_8','State_10','State_11']\n",
    "xstateOrdi=OrdinalEncoder(categories=[State_Factor])\n",
    "xstateOrdi.fit(x_test[['State_Factor']])\n",
    "xStateOrdi=xstateOrdi.transform(x_test[['State_Factor']])\n"
   ]
  },
  {
   "cell_type": "code",
   "execution_count": 170,
   "metadata": {},
   "outputs": [
    {
     "data": {
      "text/plain": [
       "Commercial     5607\n",
       "Residential    4098\n",
       "Name: building_class, dtype: int64"
      ]
     },
     "execution_count": 170,
     "metadata": {},
     "output_type": "execute_result"
    }
   ],
   "source": [
    "x_test['building_class'].value_counts()"
   ]
  },
  {
   "cell_type": "code",
   "execution_count": 171,
   "metadata": {},
   "outputs": [],
   "source": [
    "building_class=['Commercial','Residential']\n",
    "xbuildingOrdi=OrdinalEncoder(categories=[building_class])\n",
    "xbuildingOrdi.fit(x_test[['building_class']])\n",
    "xBuildingOrdi=xbuildingOrdi.transform(x_test[['building_class']])"
   ]
  },
  {
   "cell_type": "code",
   "execution_count": 172,
   "metadata": {},
   "outputs": [
    {
     "data": {
      "text/plain": [
       "{'Multifamily_Uncategorized': 2199,\n",
       " 'Office_Uncategorized': 1919,\n",
       " '2to4_Unit_Building': 966,\n",
       " 'Education_Other_classroom': 890,\n",
       " '5plus_Unit_Building': 685,\n",
       " 'Lodging_Hotel': 367,\n",
       " 'Commercial_Other': 325,\n",
       " 'Retail_Uncategorized': 225,\n",
       " 'Education_College_or_university': 202,\n",
       " 'Mixed_Use_Commercial_and_Residential': 193,\n",
       " 'Warehouse_Uncategorized': 157,\n",
       " 'Nursing_Home': 151,\n",
       " 'Grocery_store_or_food_market': 135,\n",
       " 'Religious_worship': 125,\n",
       " 'Warehouse_Nonrefrigerated': 110,\n",
       " 'Office_Medical_non_diagnostic': 100,\n",
       " 'Lodging_Dormitory_or_fraternity_sorority': 99,\n",
       " 'Warehouse_Distribution_or_Shipping_center': 94,\n",
       " 'Warehouse_Selfstorage': 80,\n",
       " 'Health_Care_Inpatient': 76,\n",
       " 'Mixed_Use_Predominantly_Commercial': 50,\n",
       " 'Industrial': 47,\n",
       " 'Laboratory': 44,\n",
       " 'Retail_Strip_shopping_mall': 37,\n",
       " 'Parking_Garage': 37,\n",
       " 'Retail_Enclosed_mall': 33,\n",
       " 'Public_Assembly_Recreation': 26,\n",
       " 'Office_Bank_or_other_financial': 23,\n",
       " 'Commercial_Unknown': 23,\n",
       " 'Warehouse_Refrigerated': 21,\n",
       " 'Public_Assembly_Entertainment_culture': 20,\n",
       " 'Food_Sales': 19,\n",
       " 'Public_Assembly_Library': 17,\n",
       " 'Food_Service_Restaurant_or_cafeteria': 17,\n",
       " 'Public_Safety_Uncategorized': 16,\n",
       " 'Service_Uncategorized': 15,\n",
       " 'Public_Assembly_Social_meeting': 14,\n",
       " 'Public_Assembly_Drama_theater': 14,\n",
       " 'Public_Assembly_Movie_Theater': 13,\n",
       " 'Retail_Vehicle_dealership_showroom': 12,\n",
       " 'Education_Uncategorized': 12,\n",
       " 'Service_Vehicle_service_repair_shop': 9,\n",
       " 'Public_Safety_Penitentiary': 8,\n",
       " 'Public_Assembly_Uncategorized': 8,\n",
       " 'Public_Safety_Fire_or_police_station': 8,\n",
       " 'Lodging_Other': 8,\n",
       " 'Public_Assembly_Other': 7,\n",
       " 'Public_Safety_Courthouse': 5,\n",
       " 'Health_Care_Outpatient_Clinic': 5,\n",
       " 'Mixed_Use_Predominantly_Residential': 5,\n",
       " 'Lodging_Uncategorized': 5,\n",
       " 'Health_Care_Outpatient_Uncategorized': 4,\n",
       " 'Data_Center': 4,\n",
       " 'Food_Service_Uncategorized': 4,\n",
       " 'Office_Mixed_use': 4,\n",
       " 'Public_Assembly_Stadium': 3,\n",
       " 'Food_Service_Other': 3,\n",
       " 'Education_Preschool_or_daycare': 3,\n",
       " 'Health_Care_Uncategorized': 2,\n",
       " 'Service_Drycleaning_or_Laundry': 2}"
      ]
     },
     "execution_count": 172,
     "metadata": {},
     "output_type": "execute_result"
    }
   ],
   "source": [
    "x_test.facility_type.value_counts().to_dict()"
   ]
  },
  {
   "cell_type": "code",
   "execution_count": 173,
   "metadata": {},
   "outputs": [],
   "source": [
    "xfacility_type_freq=x_test.facility_type.value_counts().to_dict()\n"
   ]
  },
  {
   "cell_type": "code",
   "execution_count": 174,
   "metadata": {},
   "outputs": [],
   "source": [
    "x_test.facility_type=x_test.facility_type.map(xfacility_type_freq)"
   ]
  },
  {
   "cell_type": "code",
   "execution_count": 175,
   "metadata": {},
   "outputs": [],
   "source": [
    "x_test['State_Factor']=xStateOrdi\n",
    "x_test['building_class']=xBuildingOrdi"
   ]
  },
  {
   "cell_type": "code",
   "execution_count": 176,
   "metadata": {},
   "outputs": [],
   "source": [
    "firstQ=(x_test['january_avg_temp']+x_test['february_avg_temp']+x_test['march_avg_temp'])/4\n",
    "SecondQ=(x_test['april_avg_temp']+x_test['may_avg_temp']+x_test['june_avg_temp'])/4\n",
    "thirdQ=(x_test['july_avg_temp']+x_test['august_avg_temp']+x_test['september_avg_temp'])/4\n",
    "fourthQ=(x_test['october_avg_temp']+x_test['november_avg_temp']+x_test['december_avg_temp'])/4"
   ]
  },
  {
   "cell_type": "code",
   "execution_count": 177,
   "metadata": {},
   "outputs": [],
   "source": [
    "dropped=['january_min_temp','january_max_temp','february_min_temp','february_max_temp',\n",
    "       'march_min_temp','march_max_temp', 'april_min_temp',\n",
    "       'april_max_temp', 'may_min_temp',\n",
    "       'may_max_temp', 'june_min_temp','june_max_temp',\n",
    "       'july_min_temp', 'july_max_temp', 'august_min_temp',\n",
    "       'august_max_temp', 'september_min_temp',\n",
    "       'september_max_temp', 'october_min_temp',\n",
    "        'october_max_temp', 'november_min_temp',\n",
    "       'november_max_temp', 'december_min_temp',\n",
    "       'december_max_temp']\n",
    "x_test.drop(dropped, axis=1, inplace=True)\n"
   ]
  },
  {
   "cell_type": "code",
   "execution_count": 178,
   "metadata": {},
   "outputs": [],
   "source": [
    "x_test.drop(['id'], axis=1, inplace=True)"
   ]
  },
  {
   "cell_type": "code",
   "execution_count": 179,
   "metadata": {},
   "outputs": [],
   "source": [
    "x_test.drop(['days_above_110F','days_above_100F','days_above_90F','days_below_20F','days_below_10F'], axis=1, inplace=True)"
   ]
  },
  {
   "cell_type": "code",
   "execution_count": 180,
   "metadata": {},
   "outputs": [],
   "source": [
    "x_test.drop(['january_avg_temp', 'february_avg_temp', 'march_avg_temp',\n",
    "       'april_avg_temp', 'may_avg_temp', 'june_avg_temp', 'july_avg_temp',\n",
    "       'august_avg_temp', 'september_avg_temp', 'october_avg_temp',\n",
    "       'november_avg_temp', 'december_avg_temp'], axis=1, inplace=True)\n",
    "x_test.drop(['days_below_0F'], axis=1, inplace=True)\n",
    "x_test.drop(['direction_peak_wind_speed'],axis=1,inplace=True)\n",
    "x_test.drop(['snowdepth_inches'],axis=1,inplace=True)"
   ]
  },
  {
   "cell_type": "code",
   "execution_count": 181,
   "metadata": {},
   "outputs": [],
   "source": [
    "x_test['firstQ']=firstQ\n",
    "x_test['secondQ']=SecondQ\n",
    "x_test['thirdQ']=thirdQ\n",
    "x_test['fourthQ']=fourthQ"
   ]
  },
  {
   "cell_type": "code",
   "execution_count": 182,
   "metadata": {},
   "outputs": [
    {
     "data": {
      "text/html": [
       "<div>\n",
       "<style scoped>\n",
       "    .dataframe tbody tr th:only-of-type {\n",
       "        vertical-align: middle;\n",
       "    }\n",
       "\n",
       "    .dataframe tbody tr th {\n",
       "        vertical-align: top;\n",
       "    }\n",
       "\n",
       "    .dataframe thead th {\n",
       "        text-align: right;\n",
       "    }\n",
       "</style>\n",
       "<table border=\"1\" class=\"dataframe\">\n",
       "  <thead>\n",
       "    <tr style=\"text-align: right;\">\n",
       "      <th></th>\n",
       "      <th>Year_Factor</th>\n",
       "      <th>State_Factor</th>\n",
       "      <th>building_class</th>\n",
       "      <th>facility_type</th>\n",
       "      <th>floor_area</th>\n",
       "      <th>year_built</th>\n",
       "      <th>energy_star_rating</th>\n",
       "      <th>ELEVATION</th>\n",
       "      <th>cooling_degree_days</th>\n",
       "      <th>heating_degree_days</th>\n",
       "      <th>...</th>\n",
       "      <th>avg_temp</th>\n",
       "      <th>days_below_30F</th>\n",
       "      <th>days_above_80F</th>\n",
       "      <th>direction_max_wind_speed</th>\n",
       "      <th>max_wind_speed</th>\n",
       "      <th>days_with_fog</th>\n",
       "      <th>firstQ</th>\n",
       "      <th>secondQ</th>\n",
       "      <th>thirdQ</th>\n",
       "      <th>fourthQ</th>\n",
       "    </tr>\n",
       "  </thead>\n",
       "  <tbody>\n",
       "    <tr>\n",
       "      <th>0</th>\n",
       "      <td>7</td>\n",
       "      <td>0.0</td>\n",
       "      <td>0.0</td>\n",
       "      <td>135</td>\n",
       "      <td>28484.0</td>\n",
       "      <td>1994.0</td>\n",
       "      <td>37.0</td>\n",
       "      <td>2.4</td>\n",
       "      <td>342</td>\n",
       "      <td>2112</td>\n",
       "      <td>...</td>\n",
       "      <td>59.894521</td>\n",
       "      <td>0</td>\n",
       "      <td>29</td>\n",
       "      <td>330.0</td>\n",
       "      <td>18.3</td>\n",
       "      <td>129.0</td>\n",
       "      <td>40.5036</td>\n",
       "      <td>45.625806</td>\n",
       "      <td>49.969892</td>\n",
       "      <td>43.532661</td>\n",
       "    </tr>\n",
       "    <tr>\n",
       "      <th>1</th>\n",
       "      <td>7</td>\n",
       "      <td>0.0</td>\n",
       "      <td>0.0</td>\n",
       "      <td>135</td>\n",
       "      <td>21906.0</td>\n",
       "      <td>1961.0</td>\n",
       "      <td>55.0</td>\n",
       "      <td>45.7</td>\n",
       "      <td>342</td>\n",
       "      <td>2112</td>\n",
       "      <td>...</td>\n",
       "      <td>59.894521</td>\n",
       "      <td>0</td>\n",
       "      <td>29</td>\n",
       "      <td>330.0</td>\n",
       "      <td>18.3</td>\n",
       "      <td>129.0</td>\n",
       "      <td>40.5036</td>\n",
       "      <td>45.625806</td>\n",
       "      <td>49.969892</td>\n",
       "      <td>43.532661</td>\n",
       "    </tr>\n",
       "    <tr>\n",
       "      <th>2</th>\n",
       "      <td>7</td>\n",
       "      <td>0.0</td>\n",
       "      <td>0.0</td>\n",
       "      <td>135</td>\n",
       "      <td>16138.0</td>\n",
       "      <td>1950.0</td>\n",
       "      <td>1.0</td>\n",
       "      <td>59.1</td>\n",
       "      <td>342</td>\n",
       "      <td>2112</td>\n",
       "      <td>...</td>\n",
       "      <td>59.894521</td>\n",
       "      <td>0</td>\n",
       "      <td>29</td>\n",
       "      <td>330.0</td>\n",
       "      <td>18.3</td>\n",
       "      <td>129.0</td>\n",
       "      <td>40.5036</td>\n",
       "      <td>45.625806</td>\n",
       "      <td>49.969892</td>\n",
       "      <td>43.532661</td>\n",
       "    </tr>\n",
       "    <tr>\n",
       "      <th>3</th>\n",
       "      <td>7</td>\n",
       "      <td>0.0</td>\n",
       "      <td>0.0</td>\n",
       "      <td>135</td>\n",
       "      <td>97422.0</td>\n",
       "      <td>1971.0</td>\n",
       "      <td>34.0</td>\n",
       "      <td>35.4</td>\n",
       "      <td>342</td>\n",
       "      <td>2112</td>\n",
       "      <td>...</td>\n",
       "      <td>59.894521</td>\n",
       "      <td>0</td>\n",
       "      <td>29</td>\n",
       "      <td>330.0</td>\n",
       "      <td>18.3</td>\n",
       "      <td>129.0</td>\n",
       "      <td>40.5036</td>\n",
       "      <td>45.625806</td>\n",
       "      <td>49.969892</td>\n",
       "      <td>43.532661</td>\n",
       "    </tr>\n",
       "    <tr>\n",
       "      <th>4</th>\n",
       "      <td>7</td>\n",
       "      <td>0.0</td>\n",
       "      <td>0.0</td>\n",
       "      <td>135</td>\n",
       "      <td>61242.0</td>\n",
       "      <td>1942.0</td>\n",
       "      <td>35.0</td>\n",
       "      <td>1.8</td>\n",
       "      <td>342</td>\n",
       "      <td>2112</td>\n",
       "      <td>...</td>\n",
       "      <td>59.894521</td>\n",
       "      <td>0</td>\n",
       "      <td>29</td>\n",
       "      <td>340.0</td>\n",
       "      <td>22.8</td>\n",
       "      <td>126.0</td>\n",
       "      <td>40.5036</td>\n",
       "      <td>45.625806</td>\n",
       "      <td>49.969892</td>\n",
       "      <td>43.532661</td>\n",
       "    </tr>\n",
       "  </tbody>\n",
       "</table>\n",
       "<p>5 rows × 22 columns</p>\n",
       "</div>"
      ],
      "text/plain": [
       "   Year_Factor  State_Factor  building_class  facility_type  floor_area  \\\n",
       "0            7           0.0             0.0            135     28484.0   \n",
       "1            7           0.0             0.0            135     21906.0   \n",
       "2            7           0.0             0.0            135     16138.0   \n",
       "3            7           0.0             0.0            135     97422.0   \n",
       "4            7           0.0             0.0            135     61242.0   \n",
       "\n",
       "   year_built  energy_star_rating  ELEVATION  cooling_degree_days  \\\n",
       "0      1994.0                37.0        2.4                  342   \n",
       "1      1961.0                55.0       45.7                  342   \n",
       "2      1950.0                 1.0       59.1                  342   \n",
       "3      1971.0                34.0       35.4                  342   \n",
       "4      1942.0                35.0        1.8                  342   \n",
       "\n",
       "   heating_degree_days  ...   avg_temp  days_below_30F  days_above_80F  \\\n",
       "0                 2112  ...  59.894521               0              29   \n",
       "1                 2112  ...  59.894521               0              29   \n",
       "2                 2112  ...  59.894521               0              29   \n",
       "3                 2112  ...  59.894521               0              29   \n",
       "4                 2112  ...  59.894521               0              29   \n",
       "\n",
       "   direction_max_wind_speed  max_wind_speed  days_with_fog   firstQ  \\\n",
       "0                     330.0            18.3          129.0  40.5036   \n",
       "1                     330.0            18.3          129.0  40.5036   \n",
       "2                     330.0            18.3          129.0  40.5036   \n",
       "3                     330.0            18.3          129.0  40.5036   \n",
       "4                     340.0            22.8          126.0  40.5036   \n",
       "\n",
       "     secondQ     thirdQ    fourthQ  \n",
       "0  45.625806  49.969892  43.532661  \n",
       "1  45.625806  49.969892  43.532661  \n",
       "2  45.625806  49.969892  43.532661  \n",
       "3  45.625806  49.969892  43.532661  \n",
       "4  45.625806  49.969892  43.532661  \n",
       "\n",
       "[5 rows x 22 columns]"
      ]
     },
     "execution_count": 182,
     "metadata": {},
     "output_type": "execute_result"
    }
   ],
   "source": [
    "x_test.head()"
   ]
  },
  {
   "cell_type": "code",
   "execution_count": 183,
   "metadata": {},
   "outputs": [],
   "source": [
    "x_train=train.drop('site_eui',axis=1)\n",
    "y_train=train['site_eui']\n",
    "#no split"
   ]
  },
  {
   "cell_type": "code",
   "execution_count": 184,
   "metadata": {},
   "outputs": [],
   "source": [
    "clf.fit(x_train,y_train)\n",
    "y_pred=clf.predict(x_test)"
   ]
  },
  {
   "cell_type": "code",
   "execution_count": 186,
   "metadata": {},
   "outputs": [],
   "source": [
    "solution=pd.read_csv('sample_solution.csv')"
   ]
  },
  {
   "cell_type": "code",
   "execution_count": 187,
   "metadata": {},
   "outputs": [],
   "source": [
    "solution['site_eui']=y_pred"
   ]
  },
  {
   "cell_type": "code",
   "execution_count": 188,
   "metadata": {},
   "outputs": [],
   "source": [
    "solution.to_csv('solution1.csv')"
   ]
  },
  {
   "cell_type": "code",
   "execution_count": null,
   "metadata": {},
   "outputs": [],
   "source": []
  }
 ],
 "metadata": {
  "kernelspec": {
   "display_name": "Python 3",
   "language": "python",
   "name": "python3"
  },
  "language_info": {
   "codemirror_mode": {
    "name": "ipython",
    "version": 3
   },
   "file_extension": ".py",
   "mimetype": "text/x-python",
   "name": "python",
   "nbconvert_exporter": "python",
   "pygments_lexer": "ipython3",
   "version": "3.8.5"
  }
 },
 "nbformat": 4,
 "nbformat_minor": 4
}
